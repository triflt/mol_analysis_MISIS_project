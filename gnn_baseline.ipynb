{
 "cells": [
  {
   "cell_type": "markdown",
   "id": "1ebc4008-116f-45d5-a022-412e35d29cec",
   "metadata": {},
   "source": [
    "# Libraries"
   ]
  },
  {
   "cell_type": "code",
   "execution_count": null,
   "id": "56401784",
   "metadata": {},
   "outputs": [],
   "source": [
    "#!pip install torch_geometric rdkit"
   ]
  },
  {
   "cell_type": "code",
   "execution_count": 1,
   "id": "cef59150-b13e-40c3-9f61-f848a2e5b214",
   "metadata": {},
   "outputs": [],
   "source": [
    "import random\n",
    "\n",
    "from tqdm.auto import tqdm\n",
    "import numpy as np\n",
    "import pandas as pd\n",
    "import torch\n",
    "from torch.utils.data import Subset\n",
    "from torch.optim import AdamW\n",
    "import torch_geometric as pyg\n",
    "from torch_geometric.nn.pool import global_mean_pool\n",
    "from torch_geometric.data import Dataset\n",
    "from torch_geometric.loader import DataLoader\n",
    "from sklearn.model_selection import train_test_split\n",
    "from torch.nn import Linear, ReLU, Dropout\n",
    "from torch_geometric.nn import Sequential, GCNConv, JumpingKnowledge\n",
    "from torch_geometric.nn import global_mean_pool\n",
    "from sklearn.metrics import r2_score\n",
    "from rdkit import Chem\n",
    "from rdkit.Chem import Draw"
   ]
  },
  {
   "cell_type": "code",
   "execution_count": 2,
   "id": "24fa92b6-c00c-4832-8572-023ec0476eb0",
   "metadata": {},
   "outputs": [],
   "source": [
    "def seed_everything(seed_value):\n",
    "    random.seed(seed_value)\n",
    "    np.random.seed(seed_value)\n",
    "    torch.manual_seed(seed_value)\n",
    "    if torch.cuda.is_available():\n",
    "        torch.cuda.manual_seed(seed_value)\n",
    "        torch.cuda.manual_seed_all(seed_value)\n",
    "        torch.backends.cudnn.deterministic = False"
   ]
  },
  {
   "cell_type": "code",
   "execution_count": 3,
   "id": "3515f89e-c9c2-42eb-830a-46ce3ae2b1a9",
   "metadata": {},
   "outputs": [],
   "source": [
    "batch_size = 4096\n",
    "epochs = 10\n",
    "learning_rate = 3e-4\n",
    "lr_warmup_steps = 500\n",
    "\n",
    "device = \"cuda\"\n",
    "random_state = 42\n",
    "\n",
    "seed_everything(random_state)"
   ]
  },
  {
   "cell_type": "markdown",
   "id": "9a734c24-6592-4239-8894-df3fd58b7645",
   "metadata": {},
   "source": [
    "# Data"
   ]
  },
  {
   "cell_type": "code",
   "execution_count": 4,
   "id": "5dfec7b9-27e9-4ae2-89f5-e5f22081954e",
   "metadata": {},
   "outputs": [
    {
     "data": {
      "text/html": [
       "<div>\n",
       "<style scoped>\n",
       "    .dataframe tbody tr th:only-of-type {\n",
       "        vertical-align: middle;\n",
       "    }\n",
       "\n",
       "    .dataframe tbody tr th {\n",
       "        vertical-align: top;\n",
       "    }\n",
       "\n",
       "    .dataframe thead th {\n",
       "        text-align: right;\n",
       "    }\n",
       "</style>\n",
       "<table border=\"1\" class=\"dataframe\">\n",
       "  <thead>\n",
       "    <tr style=\"text-align: right;\">\n",
       "      <th></th>\n",
       "      <th>Title</th>\n",
       "      <th>IC50</th>\n",
       "      <th>SMILES</th>\n",
       "    </tr>\n",
       "  </thead>\n",
       "  <tbody>\n",
       "    <tr>\n",
       "      <th>0</th>\n",
       "      <td>CHEMBL2206459</td>\n",
       "      <td>0.000015</td>\n",
       "      <td>[H]\\N=C(N)\\N[C@@H](C1)[C@@H](NC(=O)C)[C@@H](C=...</td>\n",
       "    </tr>\n",
       "    <tr>\n",
       "      <th>1</th>\n",
       "      <td>CHEMBL3818159</td>\n",
       "      <td>0.000016</td>\n",
       "      <td>O=C(O)C1=C[C@H](N)[C@@H](NC(=O)C)[C@@H](C1)COC...</td>\n",
       "    </tr>\n",
       "    <tr>\n",
       "      <th>2</th>\n",
       "      <td>CHEMBL1956716</td>\n",
       "      <td>0.000033</td>\n",
       "      <td>C=CC(=O)N[C@H]([C@H](C1)N)[C@@H](C=C1C([O-])=O...</td>\n",
       "    </tr>\n",
       "    <tr>\n",
       "      <th>3</th>\n",
       "      <td>CHEMBL1956715</td>\n",
       "      <td>0.000032</td>\n",
       "      <td>CC(=O)N[C@H]([C@H](C1)N)[C@@H](C=C1C([O-])=O)O...</td>\n",
       "    </tr>\n",
       "    <tr>\n",
       "      <th>4</th>\n",
       "      <td>CHEMBL4444029</td>\n",
       "      <td>0.000041</td>\n",
       "      <td>O=C(O)c1c(O)c(=O)cc([nH]1)-c(c2C)ccc(c2)-c3noc...</td>\n",
       "    </tr>\n",
       "    <tr>\n",
       "      <th>...</th>\n",
       "      <td>...</td>\n",
       "      <td>...</td>\n",
       "      <td>...</td>\n",
       "    </tr>\n",
       "    <tr>\n",
       "      <th>36372</th>\n",
       "      <td>CHEMBL3699085</td>\n",
       "      <td>2366.790000</td>\n",
       "      <td>CC(=O)N[C@H]1CC[C@@H]([C@@H]12)[C@@H](O[Si](C)...</td>\n",
       "    </tr>\n",
       "    <tr>\n",
       "      <th>36373</th>\n",
       "      <td>CHEMBL109004</td>\n",
       "      <td>2372.100000</td>\n",
       "      <td>CC(=O)Nc(cc1)c(OC(=O)C)cc1C(=O)O</td>\n",
       "    </tr>\n",
       "    <tr>\n",
       "      <th>36374</th>\n",
       "      <td>CHEMBL2259758</td>\n",
       "      <td>2600.970000</td>\n",
       "      <td>c1cccc(c12)cccc2CNC(=O)CCCCCCO[C@]3(C(=O)O)C[C...</td>\n",
       "    </tr>\n",
       "    <tr>\n",
       "      <th>36375</th>\n",
       "      <td>CHEMBL109781</td>\n",
       "      <td>2793.000000</td>\n",
       "      <td>NCCCC(=O)Nc(c(cc1)NC(=O)C)cc1C(=O)O</td>\n",
       "    </tr>\n",
       "    <tr>\n",
       "      <th>36376</th>\n",
       "      <td>CHEMBL3699084</td>\n",
       "      <td>3183.600000</td>\n",
       "      <td>CC(=O)N[C@H]1CS(=O)(=O)[C@@H]([C@@H]12)[C@@H](...</td>\n",
       "    </tr>\n",
       "  </tbody>\n",
       "</table>\n",
       "<p>36377 rows × 3 columns</p>\n",
       "</div>"
      ],
      "text/plain": [
       "               Title         IC50  \\\n",
       "0      CHEMBL2206459     0.000015   \n",
       "1      CHEMBL3818159     0.000016   \n",
       "2      CHEMBL1956716     0.000033   \n",
       "3      CHEMBL1956715     0.000032   \n",
       "4      CHEMBL4444029     0.000041   \n",
       "...              ...          ...   \n",
       "36372  CHEMBL3699085  2366.790000   \n",
       "36373   CHEMBL109004  2372.100000   \n",
       "36374  CHEMBL2259758  2600.970000   \n",
       "36375   CHEMBL109781  2793.000000   \n",
       "36376  CHEMBL3699084  3183.600000   \n",
       "\n",
       "                                                  SMILES  \n",
       "0      [H]\\N=C(N)\\N[C@@H](C1)[C@@H](NC(=O)C)[C@@H](C=...  \n",
       "1      O=C(O)C1=C[C@H](N)[C@@H](NC(=O)C)[C@@H](C1)COC...  \n",
       "2      C=CC(=O)N[C@H]([C@H](C1)N)[C@@H](C=C1C([O-])=O...  \n",
       "3      CC(=O)N[C@H]([C@H](C1)N)[C@@H](C=C1C([O-])=O)O...  \n",
       "4      O=C(O)c1c(O)c(=O)cc([nH]1)-c(c2C)ccc(c2)-c3noc...  \n",
       "...                                                  ...  \n",
       "36372  CC(=O)N[C@H]1CC[C@@H]([C@@H]12)[C@@H](O[Si](C)...  \n",
       "36373                   CC(=O)Nc(cc1)c(OC(=O)C)cc1C(=O)O  \n",
       "36374  c1cccc(c12)cccc2CNC(=O)CCCCCCO[C@]3(C(=O)O)C[C...  \n",
       "36375                NCCCC(=O)Nc(c(cc1)NC(=O)C)cc1C(=O)O  \n",
       "36376  CC(=O)N[C@H]1CS(=O)(=O)[C@@H]([C@@H]12)[C@@H](...  \n",
       "\n",
       "[36377 rows x 3 columns]"
      ]
     },
     "execution_count": 4,
     "metadata": {},
     "output_type": "execute_result"
    }
   ],
   "source": [
    "df = pd.read_excel(\"19_35000.xlsx\", index_col=0).reset_index(drop=True)\n",
    "df"
   ]
  },
  {
   "cell_type": "code",
   "execution_count": 45,
   "id": "7913e327",
   "metadata": {},
   "outputs": [],
   "source": [
    "shuffled_data = df.sample(frac=1, random_state=42)\n",
    "shuffled_data[['SMILES', 'IC50']].iloc[:32000].to_csv('data_train.txt', sep=' ', index=False)\n",
    "shuffled_data[['SMILES', 'IC50']].iloc[32000:].to_csv('data_test.txt', sep=' ', index=False)"
   ]
  },
  {
   "cell_type": "code",
   "execution_count": null,
   "id": "efc55043",
   "metadata": {},
   "outputs": [],
   "source": [
    "from sklearn.model_selection import train_test_split\n",
    "import pandas as pd\n",
    "\n",
    "# Assuming you have a DataFrame called 'data' with your data\n",
    "# X should contain the features, y should contain the target variable\n",
    "X = data.drop('target_column_name', axis=1)\n",
    "y = data['target_column_name']\n",
    "\n",
    "# Split the data into training and testing sets (default test_size is 0.25)\n",
    "X_train, X_test, y_train, y_test = train_test_split(X, y, test_size=0.2, random_state=42)\n",
    "\n",
    "# Check the shapes of the resulting datasets\n",
    "print(\"Training set - Features shape:\", X_train.shape)\n",
    "print(\"Training set - Target shape:\", y_train.shape)\n",
    "print(\"Testing set - Features shape:\", X_test.shape)\n",
    "print(\"Testing set - Target shape:\", y_test.shape)\n"
   ]
  },
  {
   "cell_type": "code",
   "execution_count": 31,
   "id": "9217b3cd-24a3-4900-9382-fe3e42c1fe66",
   "metadata": {},
   "outputs": [
    {
     "data": {
      "image/jpeg": "[encoded data removed]",
      "image/png": "[encoded data removed]",
      "text/plain": [
       "<PIL.PngImagePlugin.PngImageFile image mode=RGB size=300x300>"
      ]
     },
     "execution_count": 31,
     "metadata": {},
     "output_type": "execute_result"
    }
   ],
   "source": [
    "m = Chem.MolFromSmiles(df[\"SMILES\"].tolist()[0])\n",
    "img = Draw.MolToImage(m)\n",
    "img"
   ]
  },
  {
   "cell_type": "code",
   "execution_count": 32,
   "id": "18c891e7-9ed5-42ea-827c-84e8f9b7b464",
   "metadata": {},
   "outputs": [],
   "source": [
    "class MolDataset(Dataset):\n",
    "    def __init__(self, df):\n",
    "        super(MolDataset, self).__init__()\n",
    "        self.smiles = df[\"SMILES\"].tolist()\n",
    "        self.target = df[\"IC50\"].tolist()\n",
    "        \n",
    "    def __len__(self):\n",
    "        return len(self.smiles)\n",
    "        \n",
    "        \n",
    "    def __getitem__(self, idx):\n",
    "        x = pyg.utils.smiles.from_smiles(self.smiles[idx])\n",
    "        return x, self.target[idx]"
   ]
  },
  {
   "cell_type": "code",
   "execution_count": 33,
   "id": "ffd2ada7-9338-4c18-84c6-7b52e62f8ae0",
   "metadata": {
    "scrolled": true
   },
   "outputs": [
    {
     "data": {
      "text/plain": [
       "array([12238, 30853,  4513, ..., 11284,   860, 15795])"
      ]
     },
     "execution_count": 33,
     "metadata": {},
     "output_type": "execute_result"
    }
   ],
   "source": [
    "train_ids, test_ids = train_test_split(np.arange(len(df)))\n",
    "train_ids"
   ]
  },
  {
   "cell_type": "code",
   "execution_count": 34,
   "id": "98d8897b-6df0-427b-a694-ffa31df8d674",
   "metadata": {},
   "outputs": [],
   "source": [
    "dataset = MolDataset(df)\n",
    "\n",
    "train_loader = DataLoader(\n",
    "    Subset(dataset, train_ids),\n",
    "    shuffle=True,\n",
    "    batch_size=batch_size\n",
    ")\n",
    "\n",
    "eval_loader = DataLoader(\n",
    "    Subset(dataset, test_ids),\n",
    "    shuffle=True,\n",
    "    batch_size=batch_size\n",
    ")"
   ]
  },
  {
   "cell_type": "code",
   "execution_count": 35,
   "id": "84c5005d",
   "metadata": {},
   "outputs": [
    {
     "data": {
      "text/plain": [
       "torch.Size([26, 9])"
      ]
     },
     "execution_count": 35,
     "metadata": {},
     "output_type": "execute_result"
    }
   ],
   "source": [
    "dataset[10][0].x.shape"
   ]
  },
  {
   "cell_type": "markdown",
   "id": "f2fec7dc-fbcf-4bc1-8b78-2ff81a3dd90f",
   "metadata": {},
   "source": [
    "# Model"
   ]
  },
  {
   "cell_type": "code",
   "execution_count": 36,
   "id": "7bd08aec-9cd3-4b23-b6ae-21826313db11",
   "metadata": {},
   "outputs": [
    {
     "data": {
      "text/plain": [
       "FirstModel(\n",
       "  (model): Sequential(\n",
       "    (0) - Dropout(p=0.1, inplace=False): x -> x\n",
       "    (1) - GCNConv(9, 256): x, edge_index -> x1\n",
       "    (2) - ReLU(inplace=True): x1 -> x1\n",
       "    (3) - GCNConv(256, 256): x1, edge_index -> x2\n",
       "    (4) - ReLU(inplace=True): x2 -> x2\n",
       "    (5) - <function FirstModel.__init__.<locals>.<lambda> at 0x00000259B1F3A3A0>: x1, x2 -> xs\n",
       "    (6) - JumpingKnowledge(cat): xs -> x\n",
       "    (7) - <function global_mean_pool at 0x00000258F1396940>: x, batch -> x\n",
       "    (8) - Linear(in_features=512, out_features=1, bias=True): x -> x\n",
       "  )\n",
       ")"
      ]
     },
     "execution_count": 36,
     "metadata": {},
     "output_type": "execute_result"
    }
   ],
   "source": [
    "class FirstModel(torch.nn.Module):\n",
    "    def __init__(self, input_channels, hidden_dim=64):\n",
    "        super(FirstModel, self).__init__()\n",
    "        self.model = Sequential('x, edge_index, batch', [\n",
    "                (Dropout(p=0.1), 'x -> x'),\n",
    "                (GCNConv(input_channels, hidden_dim), 'x, edge_index -> x1'),\n",
    "                ReLU(inplace=True),\n",
    "                (GCNConv(hidden_dim, hidden_dim), 'x1, edge_index -> x2'),\n",
    "                ReLU(inplace=True),\n",
    "                (lambda x1, x2: [x1, x2], 'x1, x2 -> xs'),\n",
    "                (JumpingKnowledge(\"cat\", hidden_dim, num_layers=2), 'xs -> x'),\n",
    "                (global_mean_pool, 'x, batch -> x'),\n",
    "                Linear(2 * hidden_dim, 1),\n",
    "            ])\n",
    "\n",
    "    def forward(self, data):\n",
    "        x, edge_index, edge_attr, batch = data.x.float(), data.edge_index, data.edge_attr.float(), data.batch\n",
    "        out = self.model(x, edge_index, batch)\n",
    "        return out\n",
    "\n",
    "model = FirstModel(9, 256)\n",
    "model"
   ]
  },
  {
   "cell_type": "code",
   "execution_count": 37,
   "id": "d496812c-9b82-491c-91d3-204d89ab5acb",
   "metadata": {},
   "outputs": [],
   "source": [
    "optimizer = AdamW(model.parameters(), lr=learning_rate)\n",
    "loss_function = torch.nn.L1Loss()"
   ]
  },
  {
   "cell_type": "markdown",
   "id": "a1925f62-5f17-4f91-b3a4-aca03161d86c",
   "metadata": {},
   "source": [
    "# Let's Train"
   ]
  },
  {
   "cell_type": "code",
   "execution_count": 38,
   "id": "5e927538-9813-4dc1-9d13-8e5896095350",
   "metadata": {},
   "outputs": [],
   "source": [
    "def train_epoch(model, loader, loss_function, optimizer, device):\n",
    "    model.train()\n",
    "    model.to(device)\n",
    "    loss_function.to(device)\n",
    "    \n",
    "    preds = []\n",
    "    targets = []\n",
    "    total_loss = 0.\n",
    "    \n",
    "    for batch in tqdm(loader):\n",
    "        data, y = batch\n",
    "        data, y = data.to(device), y.to(device)\n",
    "        output = model(data)\n",
    "        \n",
    "        loss = loss_function(output.flatten(),y.flatten())\n",
    "        \n",
    "        total_loss += loss.item()\n",
    "        \n",
    "        loss.backward()\n",
    "        torch.nn.utils.clip_grad_norm_(model.parameters(), 1.0)\n",
    "        optimizer.step()\n",
    "        optimizer.zero_grad()\n",
    "\n",
    "        preds.append(output.flatten())\n",
    "        targets.append(y.flatten())\n",
    "    \n",
    "    preds = torch.cat(preds, dim=0).detach().cpu()\n",
    "    targets = torch.cat(targets, dim=0).detach().cpu()\n",
    "    mae = loss_function(targets, preds).item()\n",
    "\n",
    "    return {\"TRAIN Loss\": {total_loss / len(loader)}, \"MAE\": {mae}, \"R2\": r2_score(targets.numpy(), preds.numpy())}\n",
    "        \n",
    "        \n",
    "def eval_epoch(model, loader, loss_function, device):\n",
    "    model.eval()\n",
    "    model.to(device)\n",
    "    loss_function.to(device)\n",
    "    \n",
    "    preds = []\n",
    "    targets = []\n",
    "    total_loss = 0.\n",
    "    \n",
    "    for batch in tqdm(loader):\n",
    "        data, y = batch\n",
    "        data, y = data.to(device), y.to(device)\n",
    "        \n",
    "        with torch.no_grad():\n",
    "            output = model(data)\n",
    "        \n",
    "        loss = loss_function(output.flatten(),y.flatten())\n",
    "        \n",
    "        total_loss += loss.item()\n",
    "        \n",
    "        preds.append(output.flatten())\n",
    "        targets.append(y.flatten())\n",
    "    \n",
    "    preds = torch.cat(preds, dim=0).detach().cpu()\n",
    "    targets = torch.cat(targets, dim=0).detach().cpu()\n",
    "    mae = loss_function(targets, preds).item()\n",
    "\n",
    "    return {\"EVAL Loss\": {total_loss / len(loader)}, \"MAE\": {mae}, \"R2\": r2_score(targets.numpy(), preds.numpy())}"
   ]
  },
  {
   "cell_type": "code",
   "execution_count": 39,
   "id": "567a2647-3aa4-44ad-bb5d-d5041c725608",
   "metadata": {},
   "outputs": [
    {
     "data": {
      "application/vnd.jupyter.widget-view+json": {
       "model_id": "f7c294b4ba874155a8fe25ee5465ef47",
       "version_major": 2,
       "version_minor": 0
      },
      "text/plain": [
       "  0%|          | 0/7 [00:00<?, ?it/s]"
      ]
     },
     "metadata": {},
     "output_type": "display_data"
    },
    {
     "data": {
      "application/vnd.jupyter.widget-view+json": {
       "model_id": "eef76af5e4ef43498fb09dc848b0ee7b",
       "version_major": 2,
       "version_minor": 0
      },
      "text/plain": [
       "  0%|          | 0/3 [00:00<?, ?it/s]"
      ]
     },
     "metadata": {},
     "output_type": "display_data"
    },
    {
     "name": "stdout",
     "output_type": "stream",
     "text": [
      "{'TRAIN Loss': {7.297932352338519}, 'MAE': {7.327171325683594}, 'R2': -0.02316151511236031} {'EVAL Loss': {6.5761847496032715}, 'MAE': {6.609563827514648}, 'R2': -0.015111179421131826}\n"
     ]
    },
    {
     "data": {
      "application/vnd.jupyter.widget-view+json": {
       "model_id": "d3dde56f14844fd0886d030864fc9f53",
       "version_major": 2,
       "version_minor": 0
      },
      "text/plain": [
       "  0%|          | 0/7 [00:00<?, ?it/s]"
      ]
     },
     "metadata": {},
     "output_type": "display_data"
    },
    {
     "data": {
      "application/vnd.jupyter.widget-view+json": {
       "model_id": "dade666142b3478f9bc17986e7ddc3e9",
       "version_major": 2,
       "version_minor": 0
      },
      "text/plain": [
       "  0%|          | 0/3 [00:00<?, ?it/s]"
      ]
     },
     "metadata": {},
     "output_type": "display_data"
    },
    {
     "name": "stdout",
     "output_type": "stream",
     "text": [
      "{'TRAIN Loss': {6.631794793265207}, 'MAE': {6.6491827964782715}, 'R2': -0.01688141210782912} {'EVAL Loss': {5.896058877309163}, 'MAE': {6.095285415649414}, 'R2': -0.010402301932741054}\n"
     ]
    },
    {
     "data": {
      "application/vnd.jupyter.widget-view+json": {
       "model_id": "12e17df7804445e6bac954b8da640c6f",
       "version_major": 2,
       "version_minor": 0
      },
      "text/plain": [
       "  0%|          | 0/7 [00:00<?, ?it/s]"
      ]
     },
     "metadata": {},
     "output_type": "display_data"
    },
    {
     "data": {
      "application/vnd.jupyter.widget-view+json": {
       "model_id": "2c03ba3e25a44e059ce2ed9ac6737959",
       "version_major": 2,
       "version_minor": 0
      },
      "text/plain": [
       "  0%|          | 0/3 [00:00<?, ?it/s]"
      ]
     },
     "metadata": {},
     "output_type": "display_data"
    },
    {
     "name": "stdout",
     "output_type": "stream",
     "text": [
      "{'TRAIN Loss': {6.236406462533133}, 'MAE': {6.215174674987793}, 'R2': -0.011296633599947592} {'EVAL Loss': {5.682897249857585}, 'MAE': {5.837726593017578}, 'R2': -0.006138279250091916}\n"
     ]
    },
    {
     "data": {
      "application/vnd.jupyter.widget-view+json": {
       "model_id": "8abf8814f0f54807babda9e7de82a875",
       "version_major": 2,
       "version_minor": 0
      },
      "text/plain": [
       "  0%|          | 0/7 [00:00<?, ?it/s]"
      ]
     },
     "metadata": {},
     "output_type": "display_data"
    },
    {
     "data": {
      "application/vnd.jupyter.widget-view+json": {
       "model_id": "ac3e5d5f8fee4b2887e249db03009b43",
       "version_major": 2,
       "version_minor": 0
      },
      "text/plain": [
       "  0%|          | 0/3 [00:00<?, ?it/s]"
      ]
     },
     "metadata": {},
     "output_type": "display_data"
    },
    {
     "name": "stdout",
     "output_type": "stream",
     "text": [
      "{'TRAIN Loss': {6.131283623831613}, 'MAE': {6.119450092315674}, 'R2': -0.007109097189650582} {'EVAL Loss': {5.67758305867513}, 'MAE': {5.869534492492676}, 'R2': -0.0047437978425015626}\n"
     ]
    },
    {
     "data": {
      "application/vnd.jupyter.widget-view+json": {
       "model_id": "001505e6f7b84912a1bae20fe225ea2a",
       "version_major": 2,
       "version_minor": 0
      },
      "text/plain": [
       "  0%|          | 0/7 [00:00<?, ?it/s]"
      ]
     },
     "metadata": {},
     "output_type": "display_data"
    },
    {
     "data": {
      "application/vnd.jupyter.widget-view+json": {
       "model_id": "41a3049bf9144da0880de01abc3b545e",
       "version_major": 2,
       "version_minor": 0
      },
      "text/plain": [
       "  0%|          | 0/3 [00:00<?, ?it/s]"
      ]
     },
     "metadata": {},
     "output_type": "display_data"
    },
    {
     "name": "stdout",
     "output_type": "stream",
     "text": [
      "{'TRAIN Loss': {6.165124688829694}, 'MAE': {6.117586612701416}, 'R2': -0.007023398624032673} {'EVAL Loss': {5.626298109690349}, 'MAE': {5.8379740715026855}, 'R2': -0.006221714076284357}\n"
     ]
    },
    {
     "data": {
      "application/vnd.jupyter.widget-view+json": {
       "model_id": "d902c7a95cad4c4f868bc502059656e8",
       "version_major": 2,
       "version_minor": 0
      },
      "text/plain": [
       "  0%|          | 0/7 [00:00<?, ?it/s]"
      ]
     },
     "metadata": {},
     "output_type": "display_data"
    },
    {
     "data": {
      "application/vnd.jupyter.widget-view+json": {
       "model_id": "494b74a8f28e4dae9a4c3a511fc5909a",
       "version_major": 2,
       "version_minor": 0
      },
      "text/plain": [
       "  0%|          | 0/3 [00:00<?, ?it/s]"
      ]
     },
     "metadata": {},
     "output_type": "display_data"
    },
    {
     "name": "stdout",
     "output_type": "stream",
     "text": [
      "{'TRAIN Loss': {6.07323557989938}, 'MAE': {6.105373859405518}, 'R2': -0.008778765333180116} {'EVAL Loss': {5.861311753590901}, 'MAE': {5.842067718505859}, 'R2': -0.006525195964461439}\n"
     ]
    },
    {
     "data": {
      "application/vnd.jupyter.widget-view+json": {
       "model_id": "46924b690108484dad40bc8ab93bf391",
       "version_major": 2,
       "version_minor": 0
      },
      "text/plain": [
       "  0%|          | 0/7 [00:00<?, ?it/s]"
      ]
     },
     "metadata": {},
     "output_type": "display_data"
    },
    {
     "data": {
      "application/vnd.jupyter.widget-view+json": {
       "model_id": "40755718f50246caacfecdb654d8e6ef",
       "version_major": 2,
       "version_minor": 0
      },
      "text/plain": [
       "  0%|          | 0/3 [00:00<?, ?it/s]"
      ]
     },
     "metadata": {},
     "output_type": "display_data"
    },
    {
     "name": "stdout",
     "output_type": "stream",
     "text": [
      "{'TRAIN Loss': {6.033620425633022}, 'MAE': {6.100280284881592}, 'R2': -0.008067503329554748} {'EVAL Loss': {5.4597061475118}, 'MAE': {5.838061809539795}, 'R2': -0.005595855445956088}\n"
     ]
    },
    {
     "data": {
      "application/vnd.jupyter.widget-view+json": {
       "model_id": "7491b5f9ecb94cf59964abf20b52e21b",
       "version_major": 2,
       "version_minor": 0
      },
      "text/plain": [
       "  0%|          | 0/7 [00:00<?, ?it/s]"
      ]
     },
     "metadata": {},
     "output_type": "display_data"
    },
    {
     "data": {
      "application/vnd.jupyter.widget-view+json": {
       "model_id": "7a1e13d67e0c4a89b88e2c559a654443",
       "version_major": 2,
       "version_minor": 0
      },
      "text/plain": [
       "  0%|          | 0/3 [00:00<?, ?it/s]"
      ]
     },
     "metadata": {},
     "output_type": "display_data"
    },
    {
     "name": "stdout",
     "output_type": "stream",
     "text": [
      "{'TRAIN Loss': {6.129531587873187}, 'MAE': {6.100292682647705}, 'R2': -0.0076847167932743154} {'EVAL Loss': {5.578175226847331}, 'MAE': {5.836429595947266}, 'R2': -0.006151938586981931}\n"
     ]
    },
    {
     "data": {
      "application/vnd.jupyter.widget-view+json": {
       "model_id": "31858318f40845079e1f699250bc7252",
       "version_major": 2,
       "version_minor": 0
      },
      "text/plain": [
       "  0%|          | 0/7 [00:00<?, ?it/s]"
      ]
     },
     "metadata": {},
     "output_type": "display_data"
    },
    {
     "data": {
      "application/vnd.jupyter.widget-view+json": {
       "model_id": "ffffd50bc04a4a90830fd2ddbb43b50d",
       "version_major": 2,
       "version_minor": 0
      },
      "text/plain": [
       "  0%|          | 0/3 [00:00<?, ?it/s]"
      ]
     },
     "metadata": {},
     "output_type": "display_data"
    },
    {
     "name": "stdout",
     "output_type": "stream",
     "text": [
      "{'TRAIN Loss': {6.09632294518607}, 'MAE': {6.097663879394531}, 'R2': -0.008315393330635468} {'EVAL Loss': {5.421030680338542}, 'MAE': {5.835135459899902}, 'R2': -0.0060328493302410635}\n"
     ]
    },
    {
     "data": {
      "application/vnd.jupyter.widget-view+json": {
       "model_id": "e9410168ce91420ba4687d127a96e3da",
       "version_major": 2,
       "version_minor": 0
      },
      "text/plain": [
       "  0%|          | 0/7 [00:00<?, ?it/s]"
      ]
     },
     "metadata": {},
     "output_type": "display_data"
    },
    {
     "data": {
      "application/vnd.jupyter.widget-view+json": {
       "model_id": "ea594b45f5d9452ebcf40b692bfc54f4",
       "version_major": 2,
       "version_minor": 0
      },
      "text/plain": [
       "  0%|          | 0/3 [00:00<?, ?it/s]"
      ]
     },
     "metadata": {},
     "output_type": "display_data"
    },
    {
     "name": "stdout",
     "output_type": "stream",
     "text": [
      "{'TRAIN Loss': {6.084140709468296}, 'MAE': {6.098134994506836}, 'R2': -0.00783847398896631} {'EVAL Loss': {5.402377128601074}, 'MAE': {5.834446430206299}, 'R2': -0.005782860150311375}\n"
     ]
    }
   ],
   "source": [
    "train_logs, eval_logs = [], []\n",
    "\n",
    "for i in range(epochs):\n",
    "    train_log = train_epoch(\n",
    "        model=model, \n",
    "        loader=train_loader, \n",
    "        loss_function=loss_function, \n",
    "        optimizer=optimizer,\n",
    "        device=device\n",
    "    )\n",
    "    \n",
    "    eval_log = eval_epoch(\n",
    "        model=model, \n",
    "        loader=eval_loader, \n",
    "        loss_function=loss_function, \n",
    "        device=device\n",
    "    )\n",
    "\n",
    "    print(train_log, eval_log)\n",
    "    \n",
    "    train_logs.append(train_log)\n",
    "    eval_logs.append(eval_log)"
   ]
  }
 ],
 "metadata": {
  "kernelspec": {
   "display_name": "Python 3 (ipykernel)",
   "language": "python",
   "name": "python3"
  },
  "language_info": {
   "codemirror_mode": {
    "name": "ipython",
    "version": 3
   },
   "file_extension": ".py",
   "mimetype": "text/x-python",
   "name": "python",
   "nbconvert_exporter": "python",
   "pygments_lexer": "ipython3",
   "version": "3.8.10"
  }
 },
 "nbformat": 4,
 "nbformat_minor": 5
}
